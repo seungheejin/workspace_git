{
 "cells": [
  {
   "cell_type": "code",
   "execution_count": 9,
   "metadata": {
    "collapsed": false
   },
   "outputs": [],
   "source": [
    "import os\n",
    "import pymysql\n",
    "inputpath = './ftod/'\n",
    "#input = os.listdir(inputpath)\n",
    "\n",
    "conn = pymysql.connect(host='localhost', port=3306, user='root', passwd='dltkdgjs',db='keris', charset ='utf8')\n",
    "cur = conn.cursor()\n",
    "\n",
    "#for index in input:\n",
    "inputfileName = inputpath + 'topicprob_docs.txt'\n",
    "inputFile = open (inputfileName,encoding=\"utf8\")\n",
    "\n",
    "    \n",
    "for i in inputFile:\n",
    "        i = i.split('\\t')    \n",
    "        sql1 = \"INSERT INTO topicprob_docs (docno,topicnum,prob) VALUES('\"+i[0]+\"','\"+i[1]+\"',\"+i[2]+\")\"    \n",
    "        cur.execute(sql1) \n",
    "                \n",
    "conn.commit()\n",
    "    \n",
    "inputFile.close()\n",
    "cur.close()\n",
    "conn.close() "
   ]
  },
  {
   "cell_type": "code",
   "execution_count": 6,
   "metadata": {
    "collapsed": false
   },
   "outputs": [],
   "source": [
    "import os\n",
    "import pymysql\n",
    "inputpath = './ftod/'\n",
    "#input = os.listdir(inputpath)\n",
    "\n",
    "conn = pymysql.connect(host='localhost', port=3306, user='root', passwd='dltkdgjs',db='keris', charset ='utf8')\n",
    "cur = conn.cursor()\n",
    "\n",
    "#for index in input:\n",
    "inputfileName = inputpath + 'topicprob_docs.txt'\n",
    "inputFile = open (inputfileName,encoding=\"utf8\")\n",
    "\n",
    "topic = ['x1','x2','x3','x4','x5','x6','x7','x8','x9','x10','x11','x12','x13','x14','x15',\n",
    "         'x16','x17','x18','x19','x20']\n",
    "\n",
    "for i in inputFile:\n",
    "        i = i.split('\\t')    \n",
    "        prob = [i[1],i[2],i[3],i[4],i[5],i[6],i[7],i[8],i[9],i[10],i[11],i[12],i[13],i[14],i[15],\n",
    "                i[16],i[17],i[18],i[19],i[20]]\n",
    "        a=0;\n",
    "        for p in prob:\n",
    "            sql1 = \"INSERT INTO topicprob_docs (docno,topicnum,prob) VALUES('\"+i[0]+\"','\"+topic[a]+\"',\"+p+\")\"    \n",
    "            cur.execute(sql1) \n",
    "            a=a+1\n",
    "conn.commit()\n",
    "    \n",
    "inputFile.close()\n",
    "cur.close()\n",
    "conn.close() "
   ]
  },
  {
   "cell_type": "code",
   "execution_count": null,
   "metadata": {
    "collapsed": true
   },
   "outputs": [],
   "source": [
    "import os\n",
    "import pymysql\n",
    "inputpath = './ftod/'\n",
    "#input = os.listdir(inputpath)\n",
    "\n",
    "conn = pymysql.connect(host='localhost', port=3306, user='root', passwd='dltkdgjs',db='keris', charset ='utf8')\n",
    "cur = conn.cursor()\n",
    "\n",
    "#for index in input:\n",
    "inputfileName = inputpath + 'topicprob_docs.txt'\n",
    "inputFile = open (inputfileName,encoding=\"utf8\")\n",
    "\n",
    "topic = ['x1','x2','x3','x4','x5','x6','x7','x8','x9','x10','x11','x12','x13','x14','x15',\n",
    "         'x16','x17','x18','x19','x20']\n",
    "\n",
    "for i in inputFile:\n",
    "        i = i.split('\\t')    \n",
    "        prob = []\n",
    "        prob.append(i)\n",
    "        a=0;\n",
    "        for p in prob:\n",
    "            sql1 = \"INSERT INTO topicprob_docs (docno,topicnum,prob) VALUES('\"+i[0]+\"','\"+topic[a]+\"',\"+p+\")\"    \n",
    "            cur.execute(sql1) \n",
    "            a=a+1\n",
    "conn.commit()\n",
    "    \n",
    "inputFile.close()\n",
    "cur.close()\n",
    "conn.close() "
   ]
  }
 ],
 "metadata": {
  "kernelspec": {
   "display_name": "Python 3",
   "language": "python",
   "name": "python3"
  },
  "language_info": {
   "codemirror_mode": {
    "name": "ipython",
    "version": 3
   },
   "file_extension": ".py",
   "mimetype": "text/x-python",
   "name": "python",
   "nbconvert_exporter": "python",
   "pygments_lexer": "ipython3",
   "version": "3.5.1"
  }
 },
 "nbformat": 4,
 "nbformat_minor": 0
}
